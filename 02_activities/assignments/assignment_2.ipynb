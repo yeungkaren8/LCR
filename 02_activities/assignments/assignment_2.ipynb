{
 "cells": [
  {
   "cell_type": "markdown",
   "id": "7b0bcac6-5086-4f4e-928a-570a9ff7ae58",
   "metadata": {},
   "source": [
    "# Assignment 2"
   ]
  },
  {
   "cell_type": "markdown",
   "id": "5fce0350-2a17-4e93-8d4c-0b8748fdfc32",
   "metadata": {},
   "source": [
    "You only need to write one line of code for each question. When answering questions that ask you to identify or interpret something, the length of your response doesn’t matter. For example, if the answer is just ‘yes,’ ‘no,’ or a number, you can just give that answer without adding anything else.\n",
    "\n",
    "We will go through comparable code and concepts in the live learning session. If you run into trouble, start by using the help `help()` function in Python, to get information about the datasets and function in question. The internet is also a great resource when coding (though note that **no outside searches are required by the assignment!**). If you do incorporate code from the internet, please cite the source within your code (providing a URL is sufficient).\n",
    "\n",
    "Please bring questions that you cannot work out on your own to office hours, work periods or share with your peers on Slack. We will work with you through the issue."
   ]
  },
  {
   "cell_type": "markdown",
   "id": "5fc5001c-7715-4ebe-b0f7-e4bd04349629",
   "metadata": {},
   "source": [
    "### Linear Regression\n",
    "\n",
    "Let's set up our workspace and use the **Auto MPG dataset**. This dataset contains several features (such as horsepower, weight, displacement, and acceleration) and a target variable indicating the car's **miles per gallon (MPG)**.\n",
    "\n",
    "Here, we will model **MPG (continuous outcome)** based on the car's physical and performance characteristics."
   ]
  },
  {
   "cell_type": "code",
   "execution_count": null,
   "id": "4a3485d6-ba58-4660-a983-5680821c5719",
   "metadata": {},
   "outputs": [],
   "source": [
    "# Import standard libraries\n",
    "import pandas as pd\n",
    "import numpy as np\n",
    "import matplotlib.pyplot as plt\n",
    "from sklearn.model_selection import train_test_split\n",
    "from sklearn.linear_model import LinearRegression\n",
    "from sklearn.metrics import mean_squared_error"
   ]
  },
  {
   "cell_type": "code",
   "execution_count": null,
   "id": "a431d282-f9ca-4d5d-8912-71ffc9d8ea19",
   "metadata": {},
   "outputs": [],
   "source": [
    "import seaborn as sns\n",
    "\n",
    "# Load the Auto MPG dataset\n",
    "mpg_data = sns.load_dataset('mpg')\n",
    "\n",
    "# Drop rows with missing values\n",
    "mpg_data = mpg_data.dropna(subset=['mpg', 'horsepower', 'weight', 'displacement'])\n",
    "\n",
    "# Display the DataFrame\n",
    "mpg_data.head()"
   ]
  },
  {
   "cell_type": "markdown",
   "id": "721b2b17",
   "metadata": {},
   "source": [
    "#### **Question 1:**  \n",
    "#### Data inspection\n",
    "\n",
    "Before fitting any model, it is essential to understand our data. **Use Python code** to answer the following questions about the **Auto MPG dataset**:\n",
    "\n",
    "_(i)_ How many observations (rows) does the dataset contain and also how many variables (columns) does the dataset contain?"
   ]
  },
  {
   "cell_type": "code",
   "execution_count": null,
   "id": "5d79f1cf",
   "metadata": {},
   "outputs": [],
   "source": [
    "mpg_data.shape[0]\n",
    "# 392 rows"
   ]
  },
  {
   "cell_type": "markdown",
   "id": "a599c73b",
   "metadata": {},
   "source": [
    "_(ii)_ What is the 'variable type' of the response variable `mpg` (e.g., 'integer', 'category', etc.) and explain what it is in short? (1-2 sentences at max)"
   ]
  },
  {
   "cell_type": "code",
   "execution_count": null,
   "id": "ac306190",
   "metadata": {},
   "outputs": [],
   "source": [
    "mpg_data[\"mpg\"].dtypes\n",
    "# variable type is an integer (float64)"
   ]
  },
  {
   "cell_type": "markdown",
   "id": "6d759089",
   "metadata": {},
   "source": [
    "> Variable \"mpg\" represents the miles per gallon used by each car observation (row), as in the distance (in miles) a car can travel with 1 gallon of gas  \n"
   ]
  },
  {
   "cell_type": "markdown",
   "id": "be0119ad",
   "metadata": {},
   "source": [
    "_(iii)_ Find the 5 rows with the greatest `horsepower`."
   ]
  },
  {
   "cell_type": "code",
   "execution_count": null,
   "id": "9f034a5d",
   "metadata": {},
   "outputs": [],
   "source": [
    "# sort mpg_data by the horsepower column in descending order,\n",
    "# then show first 5 rows (specifying 5 rows in head(), but default is also 5)\n",
    "mpg_data.sort_values(by=\"horsepower\", ascending=False).head(5) "
   ]
  },
  {
   "cell_type": "markdown",
   "id": "cbc54d2c",
   "metadata": {},
   "source": [
    "_(iv)_ How many predictor variables do we have (Hint: all variables other than `mpg`)?"
   ]
  },
  {
   "cell_type": "code",
   "execution_count": null,
   "id": "1b91233e",
   "metadata": {},
   "outputs": [],
   "source": [
    "len(mpg_data.columns.difference([\"mpg\"]))\n",
    "# 8"
   ]
  },
  {
   "cell_type": "markdown",
   "id": "1741cf23",
   "metadata": {},
   "source": [
    "You can use `print()` and `describe()` to help answer these questions."
   ]
  },
  {
   "cell_type": "markdown",
   "id": "fa3832d7",
   "metadata": {},
   "source": [
    "#### **Question 2:** \n",
    "#### Data-visualization\n",
    "\n",
    "Before we fit and review model outputs, we should visualize our data. Review the code and plot, shown below."
   ]
  },
  {
   "cell_type": "code",
   "execution_count": null,
   "id": "732784d8",
   "metadata": {},
   "outputs": [],
   "source": [
    "# Exclude the 'mpg' (target variable) and non-numeric columns from the feature names\n",
    "feature_names = mpg_data.select_dtypes(include=[float, int]).columns.difference(['mpg'])\n",
    "\n",
    "# Loop through each numeric feature (column) in mpg_data\n",
    "for feature in feature_names:\n",
    "    # Extract the feature column and target variable (mpg)\n",
    "    X_feature = mpg_data[[feature]].values  # Extract as a 2D array\n",
    "    y = mpg_data['mpg'].values  # Target variable (mpg)\n",
    "    \n",
    "    # Create a scatter plot for the feature against the target (mpg)\n",
    "    plt.figure(figsize=(6, 4))\n",
    "    plt.scatter(X_feature, y, label='Data', color='blue')\n",
    "\n",
    "    # Fit a linear regression model\n",
    "    lm = LinearRegression()\n",
    "    lm.fit(X_feature, y)\n",
    "\n",
    "    # Plot the regression line\n",
    "    plt.plot(X_feature, lm.predict(X_feature), color='red', label='Regression Line')\n",
    "\n",
    "    # Add labels and title\n",
    "    plt.xlabel(feature)\n",
    "    plt.ylabel('Miles Per Gallon')\n",
    "    plt.title(f'{feature} vs Miles Per Gallon')\n",
    "\n",
    "    # Add a legend\n",
    "    plt.legend()\n",
    "\n",
    "    # Show the plot\n",
    "    plt.show()"
   ]
  },
  {
   "cell_type": "markdown",
   "id": "785c6a78",
   "metadata": {},
   "source": [
    "Answer the following questions:\n",
    "\n",
    "_(i)_ Describe the associations being plotted ? (i.e., positive association, negative association, no association)"
   ]
  },
  {
   "cell_type": "markdown",
   "id": "f67e57ab",
   "metadata": {},
   "source": [
    "> Acceleration vs mpg: positive association\n",
    "> Cylinders vs mpg: weak negative association\n",
    "> Displacement vs mpg: negative association\n",
    "> Horsepower vs mpg: negative association\n",
    "> Model year vs mpg: negative association\n",
    "> Weight vs mpg: negative assocation\n"
   ]
  },
  {
   "cell_type": "markdown",
   "id": "5325992e",
   "metadata": {},
   "source": [
    "_(ii)_ What concept ‘defines’ the plotted line?"
   ]
  },
  {
   "cell_type": "markdown",
   "id": "843f9eef",
   "metadata": {},
   "source": [
    "> Linear regression"
   ]
  },
  {
   "cell_type": "markdown",
   "id": "2b1ff3cf",
   "metadata": {},
   "source": [
    "_(iii)_ Do all data points in the dataset fall perfectly along the plotted line? If not, why might there be deviations between the data points and the line, and what do these deviations indicate about the relationship between the variables?"
   ]
  },
  {
   "cell_type": "markdown",
   "id": "2ea782fc",
   "metadata": {},
   "source": [
    "> Not all data points fall perfectly along the plotted line, which may indicate that the linear regression model is too simple to explain the relationship between the 2 variables plotted and that they may not be linearly related."
   ]
  },
  {
   "cell_type": "markdown",
   "id": "4604ee03",
   "metadata": {},
   "source": [
    "#### **Question 3:**  \n",
    "#### Model fit  \n",
    "Now, let’s fit a multivariable linear regression model using the general syntax `lm()`. As above, use **mpg** as the response variable **Y**, and all other variables as the predictors.\n",
    "\n",
    "**Step 1: Split the dataset into train and test sets, using a 75-25 split. (use random_state=42)**"
   ]
  },
  {
   "cell_type": "code",
   "execution_count": null,
   "id": "399225f4",
   "metadata": {},
   "outputs": [],
   "source": [
    "from sklearn import set_config\n",
    "\n",
    "# output dataframes instead of arrays\n",
    "set_config(transform_output=\"pandas\")\n",
    "\n",
    "mpg_train, mpg_test = train_test_split(\n",
    "    mpg_data, train_size=0.75, random_state=42\n",
    ")"
   ]
  },
  {
   "cell_type": "markdown",
   "id": "f76b8f5c",
   "metadata": {},
   "source": [
    "**Step 2: Fit the linear regression model.**"
   ]
  },
  {
   "cell_type": "code",
   "execution_count": null,
   "id": "ac1e1117",
   "metadata": {},
   "outputs": [],
   "source": [
    "# initiate model\n",
    "lm = LinearRegression()\n",
    "\n",
    "# predictors are cylinders, displacement, horsepower, weight, acceleration, and\n",
    "# model_year (columns 1-6)\n",
    "numeric_predictors = mpg_train.iloc[:, 1:7]\n",
    "\n",
    "lm.fit(numeric_predictors, mpg_train[\"mpg\"]) # response (y) is mpg\n",
    "\n",
    "# Create a DataFrame containing the slope (coefficients) and intercept\n",
    "coefficients_df = pd.DataFrame({\n",
    "    \"predictor\": numeric_predictors.columns,\n",
    "    \"slope\": lm.coef_,\n",
    "    \"intercept\": [lm.intercept_] * len(lm.coef_)\n",
    "})\n",
    "\n",
    "# Display the coefficients DataFrame\n",
    "print(coefficients_df)\n",
    "\n",
    "# lm.coef_ gives the coefficients for each predictor (change in miles per gallon per unit change in each predictor variable)\n",
    "# lm.intercept_ gives the intercept b_0 (the predicted miles per gallon when all predictors are set to 0)"
   ]
  },
  {
   "cell_type": "markdown",
   "id": "3f76bf62",
   "metadata": {},
   "source": [
    "#### **Question 4:** \n",
    "#### RMSPE\n",
    "**Step 3. Finally, we predict on the test data set to assess how well our model does.** \n",
    "\n",
    "We will evaluate our final model's test error measured by RMSPE."
   ]
  },
  {
   "cell_type": "code",
   "execution_count": null,
   "id": "ffefa9f2",
   "metadata": {},
   "outputs": [],
   "source": [
    "# make predictions using all numerical columns as predictor (same as when fitting the model above)\n",
    "mpg_test[\"predicted\"] = lm.predict(mpg_test.iloc[:, 1:7])\n",
    "\n",
    "# calculate RMSPE\n",
    "RMSPE = mean_squared_error(\n",
    "    y_true=mpg_test[\"mpg\"],\n",
    "    y_pred=mpg_test[\"predicted\"]\n",
    ")**(1/2)\n",
    "\n",
    "RMSPE"
   ]
  },
  {
   "cell_type": "markdown",
   "id": "6f8a69db",
   "metadata": {},
   "source": [
    "# Criteria\n",
    "\n",
    "| **Criteria**                                           | **Complete**                                      | **Incomplete**                                    |\n",
    "|--------------------------------------------------------|---------------------------------------------------|--------------------------------------------------|\n",
    "| **Data Inspection**                                    | Data is inspected for the number of variables, observations, and data types. | Data inspection is missing or incomplete.         |\n",
    "| **Data Visualization**                                 | Visualizations (e.g., scatter plots, histograms) are properly interepreted to explore the relationships between variables. | Data visualization were not correctly interpreted. |\n",
    "| **Model Initialization**                               | The linear regression model is correctly initialized.            | The linear regression model is not initialized or is incorrect. |\n",
    "| **Model Evaluation on Test Data**                      | The model is evaluated on the test data using appropriate metrics (e.g., RMSE). | The model evaluation is missing or uses the wrong metric. |\n"
   ]
  },
  {
   "cell_type": "markdown",
   "id": "0b4390cc",
   "metadata": {},
   "source": [
    "## Submission Information\n",
    "\n",
    "🚨 **Please review our [Assignment Submission Guide](https://github.com/UofT-DSI/onboarding/blob/main/onboarding_documents/submissions.md)** 🚨 for detailed instructions on how to format, branch, and submit your work. Following these guidelines is crucial for your submissions to be evaluated correctly.\n",
    "\n",
    "### Note:\n",
    "\n",
    "If you like, you may collaborate with others in the cohort. If you choose to do so, please indicate with whom you have worked with in your pull request by tagging their GitHub username. Separate submissions are required.\n",
    "\n",
    "### Submission Parameters:\n",
    "* Submission Due Date: `11:59 PM - 03/19/2025`\n",
    "* The branch name for your repo should be: `assignment-2`\n",
    "* What to submit for this assignment:\n",
    "    * This Jupyter Notebook (assignment_3.ipynb) should be populated and should be the only change in your pull request.\n",
    "* What the pull request link should look like for this assignment: `https://github.com/<your_github_username>/LCR/pull/<pr_id>`\n",
    "    * Open a private window in your browser. Copy and paste the link to your pull request into the address bar. Make sure you can see your pull request properly. This helps the technical facilitator and learning support staff review your submission easily.\n",
    "\n",
    "Checklist:\n",
    "- [x] Created a branch with the correct naming convention.\n",
    "- [x] Ensured that the repository is public.\n",
    "- [x] Reviewed the PR description guidelines and adhered to them.\n",
    "- [x] Verify that the link is accessible in a private browser window.\n",
    "\n",
    "If you encounter any difficulties or have questions, please don't hesitate to reach out to our team via our Slack at `#dc-help`. Our Technical Facilitators and Learning Support staff are here to help you navigate any challenges.\n"
   ]
  }
 ],
 "metadata": {
  "kernelspec": {
   "display_name": "dsi_participant",
   "language": "python",
   "name": "python3"
  },
  "language_info": {
   "codemirror_mode": {
    "name": "ipython",
    "version": 3
   },
   "file_extension": ".py",
   "mimetype": "text/x-python",
   "name": "python",
   "nbconvert_exporter": "python",
   "pygments_lexer": "ipython3",
   "version": "3.9.15"
  }
 },
 "nbformat": 4,
 "nbformat_minor": 5
}
